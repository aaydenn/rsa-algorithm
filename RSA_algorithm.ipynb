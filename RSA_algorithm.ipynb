{
  "nbformat": 4,
  "nbformat_minor": 0,
  "metadata": {
    "colab": {
      "provenance": [],
      "authorship_tag": "ABX9TyNbRMvB2tZnpcb4SVJv0QJM",
      "include_colab_link": true
    },
    "kernelspec": {
      "name": "python3",
      "display_name": "Python 3"
    },
    "language_info": {
      "name": "python"
    }
  },
  "cells": [
    {
      "cell_type": "markdown",
      "metadata": {
        "id": "view-in-github",
        "colab_type": "text"
      },
      "source": [
        "<a href=\"https://colab.research.google.com/github/aaydenn/rsa-algorithm/blob/main/RSA_algorithm.ipynb\" target=\"_parent\"><img src=\"https://colab.research.google.com/assets/colab-badge.svg\" alt=\"Open In Colab\"/></a>"
      ]
    },
    {
      "cell_type": "markdown",
      "source": [
        "# RSA algorithm"
      ],
      "metadata": {
        "id": "TQNOE74GAo0A"
      }
    },
    {
      "cell_type": "markdown",
      "source": [
        "## Generate keys"
      ],
      "metadata": {
        "id": "78o9q27RzIYl"
      }
    },
    {
      "cell_type": "markdown",
      "source": [
        "\n",
        "\n",
        "1. Choose two large prime numbers *p* and *q*.\n",
        "2. Compute *n = pq*.\n",
        " - n is used as the modulus for both the public and private keys\n",
        "3. Compute λ(n) = least common multiple(p-1, q-1).\n",
        " - λ(n) is kept secret.\n",
        "4. Choose an integer e such that 2 < e < λ(n) and greatest common divisor(e, λ(n)) = 1.\n",
        " - e should have a short bit-length and small Hamming weight.\n",
        " - e is a part of public key.\n",
        "5. Determine d as d ≡ e-1 (mod λ(n)).\n",
        " - solve for d the equation de ≡ 1 (mod λ(n))\n",
        " - d is a part of private key.\n"
      ],
      "metadata": {
        "id": "jTsmiIH7OKKk"
      }
    },
    {
      "cell_type": "code",
      "source": [
        "from dataclasses import dataclass\n",
        "from sympy import isprime\n",
        "from math import gcd, isqrt, prod\n",
        "\n",
        "@dataclass\n",
        "class RSA:\n",
        "  p: int\n",
        "  q: int\n",
        "  kwargs: dict = None\n",
        "\n",
        "\n",
        "  def __post_init__(self):\n",
        "    \"\"\"automatically after initialization\"\"\"\n",
        "    self.is_prime()\n",
        "    self.is_ordered()\n",
        "\n",
        "\n",
        "  def is_prime(self):\n",
        "    \"\"\"checks if numbers are prime\"\"\"\n",
        "    if not isprime(self.p) or not isprime(self.q):\n",
        "      raise ValueError(\"Both numbers must be prime.\")\n",
        "\n",
        "\n",
        "  def is_ordered(self):\n",
        "    \"\"\"checks if numbers are ordered\"\"\"\n",
        "    if self.p < self.q:\n",
        "      self.p, self.q = self.q, self.p\n",
        "\n",
        "\n",
        "  def n(self, p = None, q = None):\n",
        "    \"\"\"mode value for private and public keys\"\"\"\n",
        "    if p == None:\n",
        "      p = self.p\n",
        "\n",
        "    if q == None:\n",
        "      q = self.q\n",
        "\n",
        "    return p * q\n",
        "\n",
        "\n",
        "  def totient(self, n = None):\n",
        "    \"\"\"totient function\"\"\"\n",
        "    if n == None:\n",
        "      n = self.n()\n",
        "\n",
        "    # since totient function of a prime number\n",
        "    # is one minus that prime number,\n",
        "    # totient of two primes is the product\n",
        "    # of the primes minus one.\n",
        "    if isprime(n):\n",
        "      return n - 1\n",
        "\n",
        "    p = [i for i in range(2, n + 1)\n",
        "      if n % i == 0 and isprime(i)]\n",
        "\n",
        "    phi = n * prod([(i-1)/i for i in p])\n",
        "\n",
        "    return int(phi)\n",
        "\n",
        "\n",
        "  def e(self, phi = None, choose = True):\n",
        "    \"\"\"public key, power of plaintext\"\"\"\n",
        "    if phi == None:\n",
        "      phi = self.totient()\n",
        "\n",
        "    # smaller than phi and not a factor\n",
        "    E = [i for i in range(2, phi) if gcd(i, phi) == 1]\n",
        "\n",
        "    if choose:\n",
        "      # turn to bits to choose most complex\n",
        "      e_bits = [bin(e)[2:] for e in E]\n",
        "\n",
        "      # count non-zero values\n",
        "      hamming_w = [sum(1 for n in i if n != '0') for i in e_bits]\n",
        "\n",
        "      D = dict(zip(E, hamming_w))\n",
        "\n",
        "      return min(D, key = lambda k: (-D[k], k))\n",
        "\n",
        "    else:\n",
        "      return E\n",
        "\n",
        "\n",
        "  def d(self, n = None, e = None, phi = None):\n",
        "    \"\"\"private key, power of cyphertext\"\"\"\n",
        "    if n == None:\n",
        "      n = self.n()\n",
        "\n",
        "    if e == None:\n",
        "      e = self.e()\n",
        "\n",
        "    if phi == None:\n",
        "      phi = self.totient()\n",
        "\n",
        "    # d = (1 + k*mod phi) / e\n",
        "    # called extended euclid algorithm\n",
        "    k = next(k for k in range(1, phi)\n",
        "      if (k * phi + 1) % e == 0)\n",
        "    d = (k * phi + 1) // e\n",
        "    return k, d\n",
        "\n",
        "\n",
        "  def keys(self, n = None, e = None, d = None):\n",
        "    \"\"\"return public and private keys\"\"\"\n",
        "    if n == None:\n",
        "      n = self.n()\n",
        "\n",
        "    if e == None:\n",
        "      e = self.e()\n",
        "\n",
        "    if d == None:\n",
        "      _, d = self.d()\n",
        "\n",
        "    return (n, e), (n, d)\n",
        "\n",
        "\n",
        "  def encode(self, public:tuple = None, message:str = None):\n",
        "    \"\"\"convert message to unicode then encrypt\"\"\"\n",
        "    if public == None:\n",
        "      public, _ = self.keys()\n",
        "\n",
        "    #TODO: validate message\n",
        "\n",
        "    # encode plain message in unicode\n",
        "    M = [ord(l) for l in message]\n",
        "\n",
        "    # encrypt encoded message\n",
        "    return [((l ** public[1]) % public[0]) for l in M]\n",
        "\n",
        "\n",
        "  def decode(self, private:tuple = None, message = None, readable = False):\n",
        "    \"\"\"convert message to unicode then decrypt\"\"\"\n",
        "    if private == None:\n",
        "      _, private = self.keys()\n",
        "\n",
        "    #TODO: validate message\n",
        "\n",
        "    # decode cypher message in unicode\n",
        "    M = [((l ** private[1]) % private[0]) for l in message]\n",
        "\n",
        "    # translate to human readable\n",
        "    if readable:\n",
        "      return \"\".join([chr(l) for l in M])\n",
        "\n",
        "    return M"
      ],
      "metadata": {
        "id": "IB_u7zMVz7HG"
      },
      "execution_count": 152,
      "outputs": []
    },
    {
      "cell_type": "code",
      "source": [
        "rsa = RSA(17,37)\n",
        "public, private = rsa.keys()\n",
        "\n",
        "print(f\"public key: {public}\")\n",
        "print(f\"private key: {private}\")"
      ],
      "metadata": {
        "colab": {
          "base_uri": "https://localhost:8080/"
        },
        "id": "UTmGpe5THGB7",
        "outputId": "cf4852e3-d15c-492c-f84f-cd69dc897b65"
      },
      "execution_count": 153,
      "outputs": [
        {
          "output_type": "stream",
          "name": "stdout",
          "text": [
            "public key: (629, 511)\n",
            "private key: (629, 319)\n"
          ]
        }
      ]
    },
    {
      "cell_type": "markdown",
      "source": [
        "## Encrypt/decrypt plain text"
      ],
      "metadata": {
        "id": "fgnJv0AUzOHd"
      }
    },
    {
      "cell_type": "markdown",
      "source": [
        "To encrypt plain text: $$ c = m^e\\bmod n $$\n",
        "To decrypt cypher text: $$ m = c^d\\bmod n $$"
      ],
      "metadata": {
        "id": "9dMnBZU6zVxy"
      }
    },
    {
      "cell_type": "code",
      "source": [
        "message = \"non est servus tuus motus\"\n",
        "enc = rsa.encode(message = message)\n",
        "dec = rsa.decode(message = enc)\n",
        "dec_rdble = rsa.decode(message = enc, readable = True)\n",
        "\n",
        "print(f\"message: {message}\")\n",
        "print(f\"encrypted message: {enc}\")\n",
        "print(f\"decrypted message: {dec}\")\n",
        "print(f\"human-readable decrypted message: {dec_rdble}\")"
      ],
      "metadata": {
        "colab": {
          "base_uri": "https://localhost:8080/"
        },
        "id": "jzuQytTT-ZV1",
        "outputId": "a0aa7897-4518-4382-83b4-e72e1e5a1425"
      },
      "execution_count": 156,
      "outputs": [
        {
          "output_type": "stream",
          "name": "stdout",
          "text": [
            "message: non est servus tuus motus\n",
            "encrypted message: [406, 444, 406, 93, 101, 548, 351, 93, 548, 101, 78, 441, 586, 548, 93, 351, 586, 586, 548, 93, 464, 444, 351, 586, 548]\n",
            "decrypted message: [110, 111, 110, 32, 101, 115, 116, 32, 115, 101, 114, 118, 117, 115, 32, 116, 117, 117, 115, 32, 109, 111, 116, 117, 115]\n",
            "human-readable decrypted message: non est servus tuus motus\n"
          ]
        }
      ]
    }
  ]
}